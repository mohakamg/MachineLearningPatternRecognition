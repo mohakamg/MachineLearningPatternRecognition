{
 "cells": [
  {
   "cell_type": "code",
   "execution_count": 1,
   "metadata": {},
   "outputs": [],
   "source": [
    "import numpy as np\n",
    "import matplotlib.pyplot as plt\n",
    "from scipy.stats import norm\n",
    "import pandas as pd"
   ]
  },
  {
   "cell_type": "code",
   "execution_count": 13,
   "metadata": {},
   "outputs": [],
   "source": [
    "def generateData(m, S1, N, Pi, seed):\n",
    "    np.random.seed(seed)\n",
    "    return np.random.multivariate_normal(m, S1, int(N*Pi))"
   ]
  },
  {
   "cell_type": "code",
   "execution_count": 15,
   "metadata": {},
   "outputs": [],
   "source": [
    "X_train_100 = np.vstack((pd.read_csv('N_train_100.txt').columns.values.astype(np.float),np.array(pd.read_csv('N_train_100.txt'))))\n",
    "t_train_100 = X_train_100[:, -1]\n",
    "X_train_100 = X_train_100[:,:-1]\n",
    "\n",
    "X_train_1000 = np.vstack((pd.read_csv('N_train_1000.txt').columns.values.astype(np.float),np.array(pd.read_csv('N_train_1000.txt'))))\n",
    "t_train_1000 = X_train_1000[:, -1]\n",
    "X_train_1000 = X_train_1000[:,:-1]\n",
    "\n",
    "X_test = np.vstack((pd.read_csv('N_test.txt').columns.values.astype(np.float),np.array(pd.read_csv('N_test.txt'))))\n",
    "t_test = X_test[:, -1]\n",
    "X_test = X_test[:,:-1]"
   ]
  },
  {
   "cell_type": "code",
   "execution_count": 16,
   "metadata": {},
   "outputs": [],
   "source": [
    "# Naive Bayes\n",
    "def naive_bayes_classifier(train_data, Priors, test_data, labels):\n",
    "    \n",
    "    n = len(train_data)\n",
    "    c1_train = train_data[:int(n*Priors[0]),:]\n",
    "    c2_train = train_data[int(n*Priors[0]):,:]\n",
    "    mean_class1 = np.mean(c1_train, axis=0)\n",
    "    mean_class2 = np.mean(c2_train, axis=0)\n",
    "    mean = np.vstack((mean_class1,mean_class2))\n",
    "    \n",
    "    var_class1 = np.var(c1_train, axis=0)\n",
    "    var_class2 = np.var(c2_train, axis=0)\n",
    "    var = np.vstack((var_class1,var_class2))\n",
    "    \n",
    "    [row, col] = test_data.shape\n",
    "    naive_bayes1 = np.ones([1, row])\n",
    "    naive_bayes2 = np.ones([1, row])\n",
    "    \n",
    "    for i in range(col):\n",
    "        naive_bayes1 *= norm.pdf(test_data[:,i], mean[0,i], var[0,i])*Priors[0]\n",
    "        naive_bayes2 *= norm.pdf(test_data[:,i], mean[1,i], var[1,i])*Priors[1]\n",
    "        \n",
    "    naive_bayes1 = naive_bayes1.reshape(row,1)\n",
    "    naive_bayes2 = naive_bayes2.reshape(row,1)\n",
    "        \n",
    "    posterior_probs = []\n",
    "    for i in range(row):\n",
    "        if(naive_bayes1[i] > naive_bayes2[i]):\n",
    "            posterior_probs.append(1)\n",
    "        else:\n",
    "            posterior_probs.append(0)\n",
    "            \n",
    "    posterior_probs = np.array(posterior_probs)\n",
    "    accuracy = np.mean(np.array(posterior_probs) == labels)\n",
    "    test_error = np.sum(np.array(posterior_probs) != labels)\n",
    "    return posterior_probs, accuracy, test_error"
   ]
  },
  {
   "cell_type": "code",
   "execution_count": 18,
   "metadata": {},
   "outputs": [],
   "source": [
    "P = np.array([1/2, 1/2])"
   ]
  },
  {
   "cell_type": "code",
   "execution_count": 19,
   "metadata": {},
   "outputs": [],
   "source": [
    "# Bayes Classifer\n",
    "def bayes_classifier(train_data, Priors, test_data, labels):\n",
    "    n = len(train_data)\n",
    "    c1_train = train_data[:int(n*Priors[0]),:]\n",
    "    c2_train = train_data[int(n*Priors[0]):,:]\n",
    "    mean_class1 = np.mean(c1_train, axis=0)\n",
    "    mean_class2 = np.mean(c2_train, axis=0)\n",
    "    \n",
    "    mean = np.array([mean_class1,mean_class2])\n",
    "    \n",
    "    cov_matrix1 = np.cov(c1_train.T) \n",
    "    cov_matrix2 = np.cov(c2_train.T)\n",
    "    cov_matrix = np.array([cov_matrix1, cov_matrix2])\n",
    "    [row, col] = test_data.shape\n",
    "    \n",
    "    posterior_probs = np.zeros([1,row])[0]\n",
    "    for i in range(row):\n",
    "        g1 = -0.5 * (test_data[i] - mean[0]) @ np.linalg.inv(cov_matrix[0]) @ (test_data[i] - mean[0]).T - col/2 * np.log(2*np.pi) - 0.5*np.log(np.linalg.det(cov_matrix[0]))\n",
    "        g2 = -0.5 * (test_data[i] - mean[1]) @ np.linalg.inv(cov_matrix[1]) @ (test_data[i] - mean[1]).T - col/2 * np.log(2*np.pi) - 0.5*np.log(np.linalg.det(cov_matrix[1]))\n",
    "        if g1 >= g2:\n",
    "            posterior_probs[i] = 1\n",
    "        else:\n",
    "            posterior_probs[i] = 0\n",
    "            \n",
    "   \n",
    "    accuracy = np.mean(np.array(posterior_probs) == labels)\n",
    "    test_error = np.sum(np.array(posterior_probs) != labels)\n",
    "    return posterior_probs, accuracy, test_error"
   ]
  },
  {
   "cell_type": "code",
   "execution_count": 20,
   "metadata": {},
   "outputs": [],
   "source": [
    "# Bayes Classifer Using Orignal Parameters\n",
    "def bayes_classifier_original_params(mean, cov_matrix, Priors, test_data, labels):\n",
    "\n",
    "    [row, col] = test_data.shape\n",
    "    \n",
    "    posterior_probs = np.zeros([1,row])[0]\n",
    "    for i in range(row):\n",
    "        g1 = -0.5 * (test_data[i] - mean[0]) @ np.linalg.inv(cov_matrix[0]) @ (test_data[i] - mean[0]).T - col/2 * np.log(2*np.pi) - 0.5*np.log(np.linalg.det(cov_matrix[0]))\n",
    "        g2 = -0.5 * (test_data[i] - mean[1]) @ np.linalg.inv(cov_matrix[1]) @ (test_data[i] - mean[1]).T - col/2 * np.log(2*np.pi) - 0.5*np.log(np.linalg.det(cov_matrix[1]))\n",
    "        if g1 >= g2:\n",
    "            posterior_probs[i] = 1\n",
    "        else:\n",
    "            posterior_probs[i] = 0\n",
    "            \n",
    "   \n",
    "    accuracy = np.mean(np.array(posterior_probs) == labels)\n",
    "    test_error = np.sum(np.array(posterior_probs) != labels)\n",
    "    return posterior_probs, accuracy, test_error"
   ]
  },
  {
   "cell_type": "code",
   "execution_count": 21,
   "metadata": {},
   "outputs": [],
   "source": [
    "m1 = [0]*5\n",
    "m2 = [1]*5\n",
    "m = np.array([m1, m2])\n",
    "S1 = [[0.8, 0.2, 0.1, 0.05, 0.01],\n",
    "     [0.2, 0.7, 0.1, 0.03, 0.02],\n",
    "     [0.1, 0.1, 0.8, 0.02, 0.01],\n",
    "     [0.05, 0.03, 0.02, 0.9, 0.01],\n",
    "     [0.01, 0.02, 0.01, 0.01, 0.8]]\n",
    "S2 = [[0.9, 0.1, 0.05, 0.02, 0.01],\n",
    "     [0.1, 0.8, 0.1, 0.02, 0.02],\n",
    "     [0.05, 0.1, 0.7, 0.02, 0.01],\n",
    "     [0.02, 0.02, 0.02, 0.6, 0.02],\n",
    "     [0.01, 0.02, 0.01, 0.02, 0.7]]\n",
    "S = np.array([S1,S2])"
   ]
  },
  {
   "cell_type": "code",
   "execution_count": 22,
   "metadata": {},
   "outputs": [],
   "source": [
    "naive_bayes_classifier_100 = naive_bayes_classifier(X_train_100, P, X_test, t_test)\n",
    "naive_bayes_classifier_1000 = naive_bayes_classifier(X_train_1000, P, X_test, t_test)\n",
    "bayes_classifier_100 = bayes_classifier(X_train_100, P, X_test, t_test)\n",
    "bayes_classifier_1000 = bayes_classifier(X_train_1000, P, X_test, t_test)\n",
    "original_params = bayes_classifier_original_params(m, S, P, X_test, t_test)"
   ]
  },
  {
   "cell_type": "code",
   "execution_count": 23,
   "metadata": {},
   "outputs": [
    {
     "name": "stdout",
     "output_type": "stream",
     "text": [
      "Naive Bayes Classier Error (N = 100):  1428\n"
     ]
    }
   ],
   "source": [
    "print(\"Naive Bayes Classier Test Error (N = 100): \", naive_bayes_classifier_100[2])\n",
    "print(\"Naive Bayes Classier Test Error (N = 1000): \", naive_bayes_classifier_1000[2])\n",
    "print(\"Bayes Classier using MLE Test Error (N = 100): \", bayes_classifier_100[2])\n",
    "print(\"Bayes Classier using MLE Test Error (N = 1000): \", bayes_classifier_1000[2])\n",
    "print(\"Bayes Classier using original MLE Parameters Test Error: \", bayes_classifier_1000[2])"
   ]
  },
  {
   "cell_type": "code",
   "execution_count": null,
   "metadata": {},
   "outputs": [],
   "source": []
  }
 ],
 "metadata": {
  "kernelspec": {
   "display_name": "Python 3",
   "language": "python",
   "name": "python3"
  },
  "language_info": {
   "codemirror_mode": {
    "name": "ipython",
    "version": 3
   },
   "file_extension": ".py",
   "mimetype": "text/x-python",
   "name": "python",
   "nbconvert_exporter": "python",
   "pygments_lexer": "ipython3",
   "version": "3.6.8"
  }
 },
 "nbformat": 4,
 "nbformat_minor": 2
}
