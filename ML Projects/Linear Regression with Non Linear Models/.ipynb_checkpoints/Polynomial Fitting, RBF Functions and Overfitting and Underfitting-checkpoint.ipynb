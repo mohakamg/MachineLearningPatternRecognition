{
 "cells": [
  {
   "cell_type": "code",
   "execution_count": 322,
   "metadata": {},
   "outputs": [],
   "source": [
    "import numpy as np\n",
    "import matplotlib.pyplot as plt"
   ]
  },
  {
   "cell_type": "code",
   "execution_count": 323,
   "metadata": {},
   "outputs": [],
   "source": [
    "# Mapping Function\n",
    "def generate_phi_and_intialize_weights(X, degree):\n",
    "    array_of_ones = np.ones(len(X)).reshape(len(X),1)\n",
    "    X_train_design = X\n",
    "    \n",
    "    if (degree != 0):\n",
    "        for i in range(2,degree+1):\n",
    "            X_train_design = np.hstack((X_train_design,np.power(X,i)))\n",
    "        X_train_design = np.hstack((X_train_design,array_of_ones))\n",
    "        \n",
    "        weights = np.random.randn(1,degree+1)\n",
    "        return weights, X_train_design\n",
    "    \n",
    "    else:\n",
    "        weights = np.random.randn(1,degree+1)\n",
    "        return weights, X_train_design.reshape(len(X),1)"
   ]
  },
  {
   "cell_type": "code",
   "execution_count": 324,
   "metadata": {},
   "outputs": [],
   "source": [
    "def cost_function(w,X,t):\n",
    "    y = calculate_output(w,X)\n",
    "    cost = np.sum(np.power(y - t,2))\n",
    "    return cost"
   ]
  },
  {
   "cell_type": "code",
   "execution_count": 343,
   "metadata": {},
   "outputs": [],
   "source": [
    "def linear_reg_with_polynomial_model(N_train,N_test,train_std,test_std,plot_data=False,plot_polynomials=False,seed=0):\n",
    "\n",
    "    if(seed):\n",
    "        np.random.seed(seed)\n",
    "    \n",
    "    # Training Data Set\n",
    "    X_train = np.random.uniform(0,1,N_train).reshape(N_train,1)\n",
    "    noise = (np.random.randn(N_train) * train_std).reshape(N_train,1)\n",
    "    t_train = np.sin( 2*np.pi*X_train ) + noise\n",
    "    if(plot_data):\n",
    "        plt.figure()\n",
    "        plt.scatter(X_train,t_train)\n",
    "    \n",
    "    X_test = np.random.uniform(0,1,N_test).reshape(N_test,1)\n",
    "    noise = (np.random.randn(N_test) * test_std).reshape(N_test,1)\n",
    "    t_test = np.sin( 2*np.pi*X_test ) + noise\n",
    "    if(plot_data):\n",
    "        plt.figure()\n",
    "        plt.scatter(X_test,t_test)\n",
    "    \n",
    "    x_mesh_array = np.linspace(0,1,1000).reshape(1000,1)\n",
    "\n",
    "    E_train = np.zeros([10,1])\n",
    "    E_test = np.zeros([10,1])\n",
    "\n",
    "    for i in range(10):\n",
    "        _, X_curr = generate_phi_and_intialize_weights(X_train, i)\n",
    "        _, X_curr_test = generate_phi_and_intialize_weights(X_test, i)\n",
    "        w = np.dot(np.dot(np.linalg.inv(np.dot(X_curr.T,X_curr)),X_curr.T),t_train)\n",
    "\n",
    "\n",
    "        _, x_mesh = generate_phi_and_intialize_weights(x_mesh_array, i)\n",
    "        \n",
    "        E_train[i] = np.sqrt(cost_function(w,X_curr,t_train)/N_train)\n",
    "        E_test[i] = np.sqrt(cost_function(w,X_curr_test,t_test)/N_test)\n",
    "        \n",
    "        if(plot_polynomials):\n",
    "            plt.figure()\n",
    "            plt.title('Degree: ' + str(i))\n",
    "            y = x_mesh@w\n",
    "            y.shape\n",
    "            plt.plot(x_mesh[:,0], y,'g')\n",
    "            plt.scatter(X_train,t_train,marker = '*')\n",
    "\n",
    "            y = x_mesh@w\n",
    "            y.shape\n",
    "            plt.scatter(X_test,t_test,marker = 'x')\n",
    "\n",
    "            plt.legend(['Learnt Curve','Train Data', 'Test Data'])\n",
    "\n",
    "            print('Training Error for M = ' + str(i) + ': ' + str(E_train[i]))\n",
    "            print('Testing Error for M = ' + str(i) + ': ' + str(E_test[i]))\n",
    "            print('\\n')\n",
    "        \n",
    "    \n",
    "    plt.figure()    \n",
    "    plt.plot(range(10),E_train,marker='o')\n",
    "    plt.plot(range(10),E_test,marker='o')\n",
    "\n",
    "    plt.xlim([-1,11])\n",
    "\n",
    "    plt.legend(['Training Error', 'Testing Error'])\n",
    "    plt.title('N_Train = ' + str(N_train))\n",
    "    \n",
    "    print('Least Gap at M = ', np.argmin(np.absolute(E_train-E_test)))\n",
    "    \n",
    "    "
   ]
  },
  {
   "cell_type": "code",
   "execution_count": 356,
   "metadata": {},
   "outputs": [
    {
     "name": "stdout",
     "output_type": "stream",
     "text": [
      "Least Gap at M =  3\n"
     ]
    },
    {
     "data": {
      "image/png": "[encoded data removed]",
      "text/plain": [
       "<Figure size 432x288 with 1 Axes>"
      ]
     },
     "metadata": {
      "needs_background": "light"
     },
     "output_type": "display_data"
    }
   ],
   "source": [
    "seed = int(np.random.rand(1)*100)\n",
    "# seed = 61069\n",
    "linear_reg_with_polynomial_model(10,100,0.3,0.3,seed = seed)"
   ]
  },
  {
   "cell_type": "code",
   "execution_count": 358,
   "metadata": {},
   "outputs": [
    {
     "name": "stdout",
     "output_type": "stream",
     "text": [
      "Least Gap at M =  0\n"
     ]
    },
    {
     "data": {
      "image/png": "[encoded data removed]",
      "text/plain": [
       "<Figure size 432x288 with 1 Axes>"
      ]
     },
     "metadata": {
      "needs_background": "light"
     },
     "output_type": "display_data"
    }
   ],
   "source": [
    "linear_reg_with_polynomial_model(100,100,0.3,0.3,seed = seed)"
   ]
  },
  {
   "cell_type": "code",
   "execution_count": null,
   "metadata": {},
   "outputs": [],
   "source": []
  }
 ],
 "metadata": {
  "kernelspec": {
   "display_name": "Python 3",
   "language": "python",
   "name": "python3"
  },
  "language_info": {
   "codemirror_mode": {
    "name": "ipython",
    "version": 3
   },
   "file_extension": ".py",
   "mimetype": "text/x-python",
   "name": "python",
   "nbconvert_exporter": "python",
   "pygments_lexer": "ipython3",
   "version": "3.6.6"
  }
 },
 "nbformat": 4,
 "nbformat_minor": 2
}
