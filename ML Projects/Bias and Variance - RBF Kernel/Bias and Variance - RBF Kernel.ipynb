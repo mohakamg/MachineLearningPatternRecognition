{
 "cells": [
  {
   "cell_type": "code",
   "execution_count": 140,
   "metadata": {},
   "outputs": [],
   "source": [
    "# Import Libs\n",
    "import numpy as np\n",
    "import matplotlib.pyplot as plt\n",
    "%matplotlib inline"
   ]
  },
  {
   "cell_type": "code",
   "execution_count": 141,
   "metadata": {},
   "outputs": [],
   "source": [
    "# Generate Data\n",
    "D = 100\n",
    "\n",
    "N_train = 25\n",
    "noise_train = np.random.normal(0,0.3,(D,N_train,1))\n",
    "x_train = np.sort(np.random.uniform(0,1,(D,N_train,1)),axis=1)\n",
    "t_train = np.sin(2*np.pi*x_train) + noise_train\n",
    "\n",
    "\n",
    "N_test = 1000\n",
    "noise_test = np.random.normal(0,0.3,(D,N_test,1))\n",
    "x_test = np.sort(np.random.uniform(0,1,(D,N_test,1)),axis=1)\n",
    "t_test = np.sin(2*np.pi*x_test) + noise_test"
   ]
  },
  {
   "cell_type": "code",
   "execution_count": 142,
   "metadata": {},
   "outputs": [],
   "source": [
    "# Method for non-linear mapping\n",
    "def gaussian_mapping(x,M,s):\n",
    "    s = s**2\n",
    "    N = len(x)\n",
    "    phi = np.zeros((N,M))\n",
    "    loc_of_gauss = np.linspace(0,1,M)\n",
    "    for i in range(N):\n",
    "        phi[i,:] = np.exp(-1*np.power(x[i] - loc_of_gauss.T,2)/(2*s)) \n",
    "    \n",
    "    phi_t = np.hstack((np.ones((N,1)),phi))\n",
    "    \n",
    "    return phi_t\n",
    "\n",
    "# Closed Form\n",
    "def train(x,t,M,lamb):\n",
    "    return np.linalg.inv(x.T@x+lamb*np.eye(M+1)) @ x.T @ t\n",
    "\n",
    "def cost_function(f_x,t):\n",
    "    cost = np.sum(np.power(f_x - t,2))\n",
    "    return cost\n",
    "\n",
    "def calculate(x_train,t,N,M,D,lambdas,plot=False):\n",
    "    x_mesh = np.linspace(0,1,N).reshape(N,1)\n",
    "    phi_mesh = gaussian_mapping(x_mesh,M,0.1)\n",
    "    f_x = []\n",
    "    y_mesh = np.zeros((len(lambdas), D, N,1))\n",
    "    w = np.zeros((len(lambdas), D,M+1,1))\n",
    "    h_x = np.sin(2*np.pi*x_mesh)\n",
    "\n",
    "    for j in range(len(lambdas)):\n",
    "        for i in range(D):\n",
    "            phi_train = gaussian_mapping(x_train[i],M,0.1)\n",
    "            w[j,i,:] = train(phi_train,t[i],M,lambdas[j])\n",
    "            \n",
    "            if plot:\n",
    "                y_mesh[j,i,:] = phi_mesh@w[j,i]\n",
    "                plt.plot(x_mesh,y_mesh[j,i,:],'r')\n",
    "                plt.ylim([-2,2])\n",
    "                plt.title('ln(lambda): ' + str(np.log(lambdas[j])))\n",
    "        if plot:\n",
    "            plt.figure()\n",
    "        f_x.append(np.mean(y_mesh[j],axis=0))\n",
    "\n",
    "    if plot:\n",
    "        for j in range(len(lambdas)):\n",
    "            plt.figure()\n",
    "            plt.plot(x_mesh, h_x,'g')\n",
    "            plt.plot(x_mesh,f_x[j],'r')\n",
    "            plt.ylim([-1.5,1.5])\n",
    "            plt.title('Average ln(lambda): ' + str(np.log(lambdas[j])))\n",
    "    return w\n",
    "\n",
    "def predict_estimate(x, lambdas, D, N, w):\n",
    "    y_estimates_test = np.zeros((len(lambdas), D, N,1))\n",
    "    phi = []\n",
    "    \n",
    "    for i in range(D):\n",
    "        phi = gaussian_mapping(x[i],M,0.1)\n",
    "        for j in range(len(lambdas)):\n",
    "            y_estimates_test[j,i,:] = phi@w[j,i]\n",
    "#             plt.plot(y_estimates_test[j,i,:])\n",
    "    return y_estimates_test\n",
    "\n",
    "def calcualte_bias_variance(w, lambdas, y_hat):\n",
    "    N = 25\n",
    "    x_mesh = np.linspace(0,1,N).reshape(N,1)\n",
    "    phi_mesh = gaussian_mapping(x_mesh,M,0.1)\n",
    "    h_x = np.sin(2*np.pi*x_mesh)\n",
    "    f_x = []\n",
    "    y = np.zeros((len(lambdas), D, N,1))\n",
    "    ln_lambdas = np.log(lambdas)\n",
    "    E = np.zeros((len(lambdas),1))\n",
    "    \n",
    "    for j in range(len(lambdas)):\n",
    "        for i in range(D):\n",
    "            y[j,i,:] = phi_mesh@w[j,i]\n",
    "        f_x.append(np.mean(y[j],axis=0))\n",
    "        \n",
    "    # Calculate Bias\n",
    "    bias_sq = np.zeros((len(lambdas),1))\n",
    "    for i in range(len(lambdas)):\n",
    "        bias_sq[i] = np.mean(np.power(f_x[i]-h_x,2))\n",
    "\n",
    "    # Calculate Variance\n",
    "    variance = np.zeros((len(lambdas),1))\n",
    "    for i in range(len(lambdas)):\n",
    "        variance[i] = np.mean(np.mean(np.power(y[i]-f_x[i],2),axis=0))\n",
    "        \n",
    "        \n",
    "    N = 1000\n",
    "    x_mesh = np.linspace(0,1,N).reshape(N,1)\n",
    "    true_avg = np.mean(t_test,0)\n",
    "    for i in range(len(lambdas)):\n",
    "        E[i] = np.sqrt(cost_function(true_avg,np.mean(y_hat[i],0))/N)\n",
    "\n",
    "    plt.plot(ln_lambdas,bias_sq,'b')\n",
    "    plt.plot(ln_lambdas,variance,'r')\n",
    "    plt.plot(ln_lambdas,bias_sq+variance,'g')\n",
    "    plt.plot(ln_lambdas,(E))\n",
    "\n",
    "    plt.legend(['(bias)^2','variance','bias^2 + variance','Test Error'])\n",
    "    plt.ylim([0, 0.15])\n",
    "\n"
   ]
  },
  {
   "cell_type": "code",
   "execution_count": 143,
   "metadata": {},
   "outputs": [],
   "source": [
    "# M = 50\n",
    "# ln_lambda = [2.6,-0.31,-2.6]\n",
    "# lambdas = np.exp(ln_lambda)\n",
    "# f_x = calculate(x_train,t_train,N_train,M,D,lambdas,True)"
   ]
  },
  {
   "cell_type": "code",
   "execution_count": 144,
   "metadata": {},
   "outputs": [
    {
     "data": {
      "image/png": "[encoded data removed]",
      "text/plain": [
       "<Figure size 432x288 with 1 Axes>"
      ]
     },
     "metadata": {
      "needs_background": "light"
     },
     "output_type": "display_data"
    }
   ],
   "source": [
    "M = 25\n",
    "ln_lambdas = np.linspace(-2.4,2.6,50)\n",
    "lambdas = np.exp(ln_lambdas)\n",
    "w = calculate(x_train,t_train,N_train,M,D,lambdas,False)\n",
    "\n",
    "y_hat = predict_estimate(x_test, lambdas, D, N_test, w)\n",
    "\n",
    "calcualte_bias_variance(w, lambdas,y_hat)\n",
    "plt.show()"
   ]
  },
  {
   "cell_type": "code",
   "execution_count": null,
   "metadata": {},
   "outputs": [],
   "source": []
  }
 ],
 "metadata": {
  "kernelspec": {
   "display_name": "Python 3",
   "language": "python",
   "name": "python3"
  },
  "language_info": {
   "codemirror_mode": {
    "name": "ipython",
    "version": 3
   },
   "file_extension": ".py",
   "mimetype": "text/x-python",
   "name": "python",
   "nbconvert_exporter": "python",
   "pygments_lexer": "ipython3",
   "version": "3.6.6"
  }
 },
 "nbformat": 4,
 "nbformat_minor": 2
}
